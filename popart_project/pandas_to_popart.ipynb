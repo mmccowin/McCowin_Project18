{
 "cells": [
  {
   "cell_type": "markdown",
   "metadata": {},
   "source": [
    "# From Pandas to PopART:\n",
    "\n",
    "## Converting spreadsheet data to a popART traits file"
   ]
  },
  {
   "cell_type": "markdown",
   "metadata": {},
   "source": [
    "### Workflow: ###\n",
    "*Import*\n",
    "- packages\n",
    "- data\n",
    "\n",
    "*Dataframe Setup*\n",
    "- Set your traits column\n",
    "- Change \"Use_name\" settings if needed\n",
    "\n",
    "**No user input required again until finished!**\n",
    "\n",
    "*Run Code: Formatting Dataframes*\n",
    "- use_name() function\n",
    "- remove extraneous columns\n",
    "- dummy values\n",
    "- export without headers to csv - convert csv to txt\n",
    "\n",
    "*Run Code: Creating PopART Text File*\n",
    "- format matrix\n",
    "- Traitlabels and NTRAITS\n",
    "- format popART text block\n",
    "- save as txt\n",
    "- append to nexus file **(user input required here)**"
   ]
  },
  {
   "cell_type": "markdown",
   "metadata": {},
   "source": [
    "**Note: 2 files will be created**\n",
    "- **pART_traits.txt** is the popART traits file containing everything you need for the popART traits block and matrix (this is the one you want to save, and the one that will be appended to the nexus file you specify).\n",
    "- **pART_matrix.txt** is just the traits matrix. It is a useful file to check if anything does not look as expected in the pART_traits file."
   ]
  },
  {
   "cell_type": "markdown",
   "metadata": {},
   "source": [
    "### Import"
   ]
  },
  {
   "cell_type": "markdown",
   "metadata": {},
   "source": [
    "Import packages needed"
   ]
  },
  {
   "cell_type": "code",
   "execution_count": 1,
   "metadata": {},
   "outputs": [],
   "source": [
    "import pandas as pd\n",
    "import numpy as np"
   ]
  },
  {
   "cell_type": "markdown",
   "metadata": {},
   "source": [
    "**Import Data**: provide your file name here"
   ]
  },
  {
   "cell_type": "code",
   "execution_count": 2,
   "metadata": {
    "scrolled": true
   },
   "outputs": [
    {
     "data": {
      "text/html": [
       "<div>\n",
       "<style scoped>\n",
       "    .dataframe tbody tr th:only-of-type {\n",
       "        vertical-align: middle;\n",
       "    }\n",
       "\n",
       "    .dataframe tbody tr th {\n",
       "        vertical-align: top;\n",
       "    }\n",
       "\n",
       "    .dataframe thead th {\n",
       "        text-align: right;\n",
       "    }\n",
       "</style>\n",
       "<table border=\"1\" class=\"dataframe\">\n",
       "  <thead>\n",
       "    <tr style=\"text-align: right;\">\n",
       "      <th></th>\n",
       "      <th>Sample_name</th>\n",
       "      <th>BIC_Accession</th>\n",
       "      <th>Genus</th>\n",
       "      <th>Species</th>\n",
       "      <th>Locality</th>\n",
       "      <th>Latitude</th>\n",
       "      <th>Longitude</th>\n",
       "    </tr>\n",
       "  </thead>\n",
       "  <tbody>\n",
       "    <tr>\n",
       "      <th>0</th>\n",
       "      <td>PB4088</td>\n",
       "      <td>A7969</td>\n",
       "      <td>Thermiphione</td>\n",
       "      <td>rapanui</td>\n",
       "      <td>Southern</td>\n",
       "      <td>-37.80</td>\n",
       "      <td>-110.92</td>\n",
       "    </tr>\n",
       "    <tr>\n",
       "      <th>1</th>\n",
       "      <td>PBS4088</td>\n",
       "      <td>A7970</td>\n",
       "      <td>Thermiphione</td>\n",
       "      <td>rapanui</td>\n",
       "      <td>Southern</td>\n",
       "      <td>-37.80</td>\n",
       "      <td>-110.92</td>\n",
       "    </tr>\n",
       "    <tr>\n",
       "      <th>2</th>\n",
       "      <td>PB4096A</td>\n",
       "      <td>A7971</td>\n",
       "      <td>Thermiphione</td>\n",
       "      <td>rapanui</td>\n",
       "      <td>Easter_Island</td>\n",
       "      <td>-23.55</td>\n",
       "      <td>-115.57</td>\n",
       "    </tr>\n",
       "    <tr>\n",
       "      <th>3</th>\n",
       "      <td>PB4096C</td>\n",
       "      <td>A7972</td>\n",
       "      <td>Thermiphione</td>\n",
       "      <td>rapanui</td>\n",
       "      <td>Easter_Island</td>\n",
       "      <td>-23.55</td>\n",
       "      <td>-115.57</td>\n",
       "    </tr>\n",
       "  </tbody>\n",
       "</table>\n",
       "</div>"
      ],
      "text/plain": [
       "  Sample_name BIC_Accession         Genus  Species       Locality  Latitude  \\\n",
       "0      PB4088         A7969  Thermiphione  rapanui       Southern    -37.80   \n",
       "1     PBS4088         A7970  Thermiphione  rapanui       Southern    -37.80   \n",
       "2     PB4096A         A7971  Thermiphione  rapanui  Easter_Island    -23.55   \n",
       "3     PB4096C         A7972  Thermiphione  rapanui  Easter_Island    -23.55   \n",
       "\n",
       "   Longitude  \n",
       "0    -110.92  \n",
       "1    -110.92  \n",
       "2    -115.57  \n",
       "3    -115.57  "
      ]
     },
     "execution_count": 2,
     "metadata": {},
     "output_type": "execute_result"
    }
   ],
   "source": [
    "df = pd.read_csv('thermi_testC.csv')\n",
    "df"
   ]
  },
  {
   "cell_type": "code",
   "execution_count": 4,
   "metadata": {},
   "outputs": [
    {
     "data": {
      "text/html": [
       "<div>\n",
       "<style scoped>\n",
       "    .dataframe tbody tr th:only-of-type {\n",
       "        vertical-align: middle;\n",
       "    }\n",
       "\n",
       "    .dataframe tbody tr th {\n",
       "        vertical-align: top;\n",
       "    }\n",
       "\n",
       "    .dataframe thead th {\n",
       "        text-align: right;\n",
       "    }\n",
       "</style>\n",
       "<table border=\"1\" class=\"dataframe\">\n",
       "  <thead>\n",
       "    <tr style=\"text-align: right;\">\n",
       "      <th></th>\n",
       "      <th>sample_name</th>\n",
       "      <th>bic_accession</th>\n",
       "      <th>genus</th>\n",
       "      <th>species</th>\n",
       "      <th>locality</th>\n",
       "      <th>latitude</th>\n",
       "      <th>longitude</th>\n",
       "    </tr>\n",
       "  </thead>\n",
       "  <tbody>\n",
       "    <tr>\n",
       "      <th>0</th>\n",
       "      <td>PB4088</td>\n",
       "      <td>A7969</td>\n",
       "      <td>Thermiphione</td>\n",
       "      <td>rapanui</td>\n",
       "      <td>Southern</td>\n",
       "      <td>-37.80</td>\n",
       "      <td>-110.92</td>\n",
       "    </tr>\n",
       "    <tr>\n",
       "      <th>1</th>\n",
       "      <td>PBS4088</td>\n",
       "      <td>A7970</td>\n",
       "      <td>Thermiphione</td>\n",
       "      <td>rapanui</td>\n",
       "      <td>Southern</td>\n",
       "      <td>-37.80</td>\n",
       "      <td>-110.92</td>\n",
       "    </tr>\n",
       "    <tr>\n",
       "      <th>2</th>\n",
       "      <td>PB4096A</td>\n",
       "      <td>A7971</td>\n",
       "      <td>Thermiphione</td>\n",
       "      <td>rapanui</td>\n",
       "      <td>Easter_Island</td>\n",
       "      <td>-23.55</td>\n",
       "      <td>-115.57</td>\n",
       "    </tr>\n",
       "    <tr>\n",
       "      <th>3</th>\n",
       "      <td>PB4096C</td>\n",
       "      <td>A7972</td>\n",
       "      <td>Thermiphione</td>\n",
       "      <td>rapanui</td>\n",
       "      <td>Easter_Island</td>\n",
       "      <td>-23.55</td>\n",
       "      <td>-115.57</td>\n",
       "    </tr>\n",
       "  </tbody>\n",
       "</table>\n",
       "</div>"
      ],
      "text/plain": [
       "  sample_name bic_accession         genus  species       locality  latitude  \\\n",
       "0      PB4088         A7969  Thermiphione  rapanui       Southern    -37.80   \n",
       "1     PBS4088         A7970  Thermiphione  rapanui       Southern    -37.80   \n",
       "2     PB4096A         A7971  Thermiphione  rapanui  Easter_Island    -23.55   \n",
       "3     PB4096C         A7972  Thermiphione  rapanui  Easter_Island    -23.55   \n",
       "\n",
       "   longitude  \n",
       "0    -110.92  \n",
       "1    -110.92  \n",
       "2    -115.57  \n",
       "3    -115.57  "
      ]
     },
     "execution_count": 4,
     "metadata": {},
     "output_type": "execute_result"
    }
   ],
   "source": [
    "# (Optional) if your file does not have all lowercase headers:\n",
    "\n",
    "df.columns = [x.lower() for x in df.columns]\n",
    "df"
   ]
  },
  {
   "cell_type": "markdown",
   "metadata": {},
   "source": [
    "### Dataframe Setup\n",
    "\n",
    "**Set Traits Column**:\n",
    "set column that will be analyzed as 'Traits'"
   ]
  },
  {
   "cell_type": "code",
   "execution_count": 5,
   "metadata": {},
   "outputs": [
    {
     "data": {
      "text/html": [
       "<div>\n",
       "<style scoped>\n",
       "    .dataframe tbody tr th:only-of-type {\n",
       "        vertical-align: middle;\n",
       "    }\n",
       "\n",
       "    .dataframe tbody tr th {\n",
       "        vertical-align: top;\n",
       "    }\n",
       "\n",
       "    .dataframe thead th {\n",
       "        text-align: right;\n",
       "    }\n",
       "</style>\n",
       "<table border=\"1\" class=\"dataframe\">\n",
       "  <thead>\n",
       "    <tr style=\"text-align: right;\">\n",
       "      <th></th>\n",
       "      <th>sample_name</th>\n",
       "      <th>bic_accession</th>\n",
       "      <th>genus</th>\n",
       "      <th>species</th>\n",
       "      <th>locality</th>\n",
       "      <th>latitude</th>\n",
       "      <th>longitude</th>\n",
       "      <th>traits</th>\n",
       "    </tr>\n",
       "  </thead>\n",
       "  <tbody>\n",
       "    <tr>\n",
       "      <th>0</th>\n",
       "      <td>PB4088</td>\n",
       "      <td>A7969</td>\n",
       "      <td>Thermiphione</td>\n",
       "      <td>rapanui</td>\n",
       "      <td>Southern</td>\n",
       "      <td>-37.80</td>\n",
       "      <td>-110.92</td>\n",
       "      <td>Southern</td>\n",
       "    </tr>\n",
       "    <tr>\n",
       "      <th>1</th>\n",
       "      <td>PBS4088</td>\n",
       "      <td>A7970</td>\n",
       "      <td>Thermiphione</td>\n",
       "      <td>rapanui</td>\n",
       "      <td>Southern</td>\n",
       "      <td>-37.80</td>\n",
       "      <td>-110.92</td>\n",
       "      <td>Southern</td>\n",
       "    </tr>\n",
       "    <tr>\n",
       "      <th>2</th>\n",
       "      <td>PB4096A</td>\n",
       "      <td>A7971</td>\n",
       "      <td>Thermiphione</td>\n",
       "      <td>rapanui</td>\n",
       "      <td>Easter_Island</td>\n",
       "      <td>-23.55</td>\n",
       "      <td>-115.57</td>\n",
       "      <td>Easter_Island</td>\n",
       "    </tr>\n",
       "    <tr>\n",
       "      <th>3</th>\n",
       "      <td>PB4096C</td>\n",
       "      <td>A7972</td>\n",
       "      <td>Thermiphione</td>\n",
       "      <td>rapanui</td>\n",
       "      <td>Easter_Island</td>\n",
       "      <td>-23.55</td>\n",
       "      <td>-115.57</td>\n",
       "      <td>Easter_Island</td>\n",
       "    </tr>\n",
       "  </tbody>\n",
       "</table>\n",
       "</div>"
      ],
      "text/plain": [
       "  sample_name bic_accession         genus  species       locality  latitude  \\\n",
       "0      PB4088         A7969  Thermiphione  rapanui       Southern    -37.80   \n",
       "1     PBS4088         A7970  Thermiphione  rapanui       Southern    -37.80   \n",
       "2     PB4096A         A7971  Thermiphione  rapanui  Easter_Island    -23.55   \n",
       "3     PB4096C         A7972  Thermiphione  rapanui  Easter_Island    -23.55   \n",
       "\n",
       "   longitude         traits  \n",
       "0    -110.92       Southern  \n",
       "1    -110.92       Southern  \n",
       "2    -115.57  Easter_Island  \n",
       "3    -115.57  Easter_Island  "
      ]
     },
     "execution_count": 5,
     "metadata": {},
     "output_type": "execute_result"
    }
   ],
   "source": [
    "def get_traits():\n",
    "    df['traits'] = df['locality']\n",
    "get_traits()\n",
    "df"
   ]
  },
  {
   "cell_type": "markdown",
   "metadata": {},
   "source": [
    "### Use_name\n",
    "This is the name that will be used to create the popART matrix. You have two options, explained below:\n",
    "\n",
    "**Option 1:**\n",
    "\n",
    "`use_name()` function creates a new \"Use_name\" column that concatenates the Genus, species, and the sample name columns, separated by underscores. This is the name that will be used for the popART matrix.\n",
    "- **Note**: Your columns can be in any order in the dataframe, but must be capitalized like this (no spaces): Genus, Species, Sample_name\n",
    "\n",
    "`def use_name():\n",
    "    df2['Use_name'] = df2[['Genus', 'Species', \n",
    "                             'Sample_Name']].apply(lambda x: '_'.join(x), axis=1)`\n",
    "\n",
    "**Option 2:**\n",
    "`use_orig()` function copies your \"Sample_name\" column into the \"Use_name\" column so that only the sample names will be used to create the matrix (use this option if Genus/species are not available)\n",
    "\n",
    "`def use_orig():\n",
    "    df2['Use_name'] = df2['Sample_name']`"
   ]
  },
  {
   "cell_type": "code",
   "execution_count": 6,
   "metadata": {},
   "outputs": [
    {
     "data": {
      "text/html": [
       "<div>\n",
       "<style scoped>\n",
       "    .dataframe tbody tr th:only-of-type {\n",
       "        vertical-align: middle;\n",
       "    }\n",
       "\n",
       "    .dataframe tbody tr th {\n",
       "        vertical-align: top;\n",
       "    }\n",
       "\n",
       "    .dataframe thead th {\n",
       "        text-align: right;\n",
       "    }\n",
       "</style>\n",
       "<table border=\"1\" class=\"dataframe\">\n",
       "  <thead>\n",
       "    <tr style=\"text-align: right;\">\n",
       "      <th></th>\n",
       "      <th>sample_name</th>\n",
       "      <th>bic_accession</th>\n",
       "      <th>genus</th>\n",
       "      <th>species</th>\n",
       "      <th>locality</th>\n",
       "      <th>latitude</th>\n",
       "      <th>longitude</th>\n",
       "      <th>traits</th>\n",
       "      <th>use_name</th>\n",
       "    </tr>\n",
       "  </thead>\n",
       "  <tbody>\n",
       "    <tr>\n",
       "      <th>0</th>\n",
       "      <td>PB4088</td>\n",
       "      <td>A7969</td>\n",
       "      <td>Thermiphione</td>\n",
       "      <td>rapanui</td>\n",
       "      <td>Southern</td>\n",
       "      <td>-37.80</td>\n",
       "      <td>-110.92</td>\n",
       "      <td>Southern</td>\n",
       "      <td>Thermiphione_rapanui_PB4088</td>\n",
       "    </tr>\n",
       "    <tr>\n",
       "      <th>1</th>\n",
       "      <td>PBS4088</td>\n",
       "      <td>A7970</td>\n",
       "      <td>Thermiphione</td>\n",
       "      <td>rapanui</td>\n",
       "      <td>Southern</td>\n",
       "      <td>-37.80</td>\n",
       "      <td>-110.92</td>\n",
       "      <td>Southern</td>\n",
       "      <td>Thermiphione_rapanui_PBS4088</td>\n",
       "    </tr>\n",
       "    <tr>\n",
       "      <th>2</th>\n",
       "      <td>PB4096A</td>\n",
       "      <td>A7971</td>\n",
       "      <td>Thermiphione</td>\n",
       "      <td>rapanui</td>\n",
       "      <td>Easter_Island</td>\n",
       "      <td>-23.55</td>\n",
       "      <td>-115.57</td>\n",
       "      <td>Easter_Island</td>\n",
       "      <td>Thermiphione_rapanui_PB4096A</td>\n",
       "    </tr>\n",
       "    <tr>\n",
       "      <th>3</th>\n",
       "      <td>PB4096C</td>\n",
       "      <td>A7972</td>\n",
       "      <td>Thermiphione</td>\n",
       "      <td>rapanui</td>\n",
       "      <td>Easter_Island</td>\n",
       "      <td>-23.55</td>\n",
       "      <td>-115.57</td>\n",
       "      <td>Easter_Island</td>\n",
       "      <td>Thermiphione_rapanui_PB4096C</td>\n",
       "    </tr>\n",
       "  </tbody>\n",
       "</table>\n",
       "</div>"
      ],
      "text/plain": [
       "  sample_name bic_accession         genus  species       locality  latitude  \\\n",
       "0      PB4088         A7969  Thermiphione  rapanui       Southern    -37.80   \n",
       "1     PBS4088         A7970  Thermiphione  rapanui       Southern    -37.80   \n",
       "2     PB4096A         A7971  Thermiphione  rapanui  Easter_Island    -23.55   \n",
       "3     PB4096C         A7972  Thermiphione  rapanui  Easter_Island    -23.55   \n",
       "\n",
       "   longitude         traits                      use_name  \n",
       "0    -110.92       Southern   Thermiphione_rapanui_PB4088  \n",
       "1    -110.92       Southern  Thermiphione_rapanui_PBS4088  \n",
       "2    -115.57  Easter_Island  Thermiphione_rapanui_PB4096A  \n",
       "3    -115.57  Easter_Island  Thermiphione_rapanui_PB4096C  "
      ]
     },
     "execution_count": 6,
     "metadata": {},
     "output_type": "execute_result"
    }
   ],
   "source": [
    "def use_name():\n",
    "    df['use_name'] = df[['genus', 'species', \n",
    "                             'sample_name']].apply(lambda x: '_'.join(x), axis=1)\n",
    "use_name()\n",
    "df"
   ]
  },
  {
   "cell_type": "markdown",
   "metadata": {},
   "source": [
    "**OR...**"
   ]
  },
  {
   "cell_type": "code",
   "execution_count": 8,
   "metadata": {},
   "outputs": [
    {
     "data": {
      "text/html": [
       "<div>\n",
       "<style scoped>\n",
       "    .dataframe tbody tr th:only-of-type {\n",
       "        vertical-align: middle;\n",
       "    }\n",
       "\n",
       "    .dataframe tbody tr th {\n",
       "        vertical-align: top;\n",
       "    }\n",
       "\n",
       "    .dataframe thead th {\n",
       "        text-align: right;\n",
       "    }\n",
       "</style>\n",
       "<table border=\"1\" class=\"dataframe\">\n",
       "  <thead>\n",
       "    <tr style=\"text-align: right;\">\n",
       "      <th></th>\n",
       "      <th>sample_name</th>\n",
       "      <th>bic_accession</th>\n",
       "      <th>genus</th>\n",
       "      <th>species</th>\n",
       "      <th>locality</th>\n",
       "      <th>latitude</th>\n",
       "      <th>longitude</th>\n",
       "      <th>traits</th>\n",
       "      <th>use_name</th>\n",
       "    </tr>\n",
       "  </thead>\n",
       "  <tbody>\n",
       "    <tr>\n",
       "      <th>0</th>\n",
       "      <td>PB4088</td>\n",
       "      <td>A7969</td>\n",
       "      <td>Thermiphione</td>\n",
       "      <td>rapanui</td>\n",
       "      <td>Southern</td>\n",
       "      <td>-37.80</td>\n",
       "      <td>-110.92</td>\n",
       "      <td>Southern</td>\n",
       "      <td>PB4088</td>\n",
       "    </tr>\n",
       "    <tr>\n",
       "      <th>1</th>\n",
       "      <td>PBS4088</td>\n",
       "      <td>A7970</td>\n",
       "      <td>Thermiphione</td>\n",
       "      <td>rapanui</td>\n",
       "      <td>Southern</td>\n",
       "      <td>-37.80</td>\n",
       "      <td>-110.92</td>\n",
       "      <td>Southern</td>\n",
       "      <td>PBS4088</td>\n",
       "    </tr>\n",
       "    <tr>\n",
       "      <th>2</th>\n",
       "      <td>PB4096A</td>\n",
       "      <td>A7971</td>\n",
       "      <td>Thermiphione</td>\n",
       "      <td>rapanui</td>\n",
       "      <td>Easter_Island</td>\n",
       "      <td>-23.55</td>\n",
       "      <td>-115.57</td>\n",
       "      <td>Easter_Island</td>\n",
       "      <td>PB4096A</td>\n",
       "    </tr>\n",
       "    <tr>\n",
       "      <th>3</th>\n",
       "      <td>PB4096C</td>\n",
       "      <td>A7972</td>\n",
       "      <td>Thermiphione</td>\n",
       "      <td>rapanui</td>\n",
       "      <td>Easter_Island</td>\n",
       "      <td>-23.55</td>\n",
       "      <td>-115.57</td>\n",
       "      <td>Easter_Island</td>\n",
       "      <td>PB4096C</td>\n",
       "    </tr>\n",
       "  </tbody>\n",
       "</table>\n",
       "</div>"
      ],
      "text/plain": [
       "  sample_name bic_accession         genus  species       locality  latitude  \\\n",
       "0      PB4088         A7969  Thermiphione  rapanui       Southern    -37.80   \n",
       "1     PBS4088         A7970  Thermiphione  rapanui       Southern    -37.80   \n",
       "2     PB4096A         A7971  Thermiphione  rapanui  Easter_Island    -23.55   \n",
       "3     PB4096C         A7972  Thermiphione  rapanui  Easter_Island    -23.55   \n",
       "\n",
       "   longitude         traits use_name  \n",
       "0    -110.92       Southern   PB4088  \n",
       "1    -110.92       Southern  PBS4088  \n",
       "2    -115.57  Easter_Island  PB4096A  \n",
       "3    -115.57  Easter_Island  PB4096C  "
      ]
     },
     "execution_count": 8,
     "metadata": {},
     "output_type": "execute_result"
    }
   ],
   "source": [
    "def use_orig():\n",
    "    df['use_name'] = df['sample_name']\n",
    "use_orig()\n",
    "df"
   ]
  },
  {
   "cell_type": "markdown",
   "metadata": {},
   "source": [
    "### Setup Finished! \n",
    "Run the rest of the code as is to get your finished popART traits file."
   ]
  },
  {
   "cell_type": "markdown",
   "metadata": {},
   "source": [
    "### Run this code: Formatting Dataframes\n",
    "Remove extraneous columns"
   ]
  },
  {
   "cell_type": "code",
   "execution_count": 10,
   "metadata": {
    "scrolled": true
   },
   "outputs": [
    {
     "data": {
      "text/html": [
       "<div>\n",
       "<style scoped>\n",
       "    .dataframe tbody tr th:only-of-type {\n",
       "        vertical-align: middle;\n",
       "    }\n",
       "\n",
       "    .dataframe tbody tr th {\n",
       "        vertical-align: top;\n",
       "    }\n",
       "\n",
       "    .dataframe thead th {\n",
       "        text-align: right;\n",
       "    }\n",
       "</style>\n",
       "<table border=\"1\" class=\"dataframe\">\n",
       "  <thead>\n",
       "    <tr style=\"text-align: right;\">\n",
       "      <th></th>\n",
       "      <th>use_name</th>\n",
       "      <th>traits</th>\n",
       "    </tr>\n",
       "  </thead>\n",
       "  <tbody>\n",
       "    <tr>\n",
       "      <th>0</th>\n",
       "      <td>PB4088</td>\n",
       "      <td>Southern</td>\n",
       "    </tr>\n",
       "    <tr>\n",
       "      <th>1</th>\n",
       "      <td>PBS4088</td>\n",
       "      <td>Southern</td>\n",
       "    </tr>\n",
       "    <tr>\n",
       "      <th>2</th>\n",
       "      <td>PB4096A</td>\n",
       "      <td>Easter_Island</td>\n",
       "    </tr>\n",
       "    <tr>\n",
       "      <th>3</th>\n",
       "      <td>PB4096C</td>\n",
       "      <td>Easter_Island</td>\n",
       "    </tr>\n",
       "  </tbody>\n",
       "</table>\n",
       "</div>"
      ],
      "text/plain": [
       "  use_name         traits\n",
       "0   PB4088       Southern\n",
       "1  PBS4088       Southern\n",
       "2  PB4096A  Easter_Island\n",
       "3  PB4096C  Easter_Island"
      ]
     },
     "execution_count": 10,
     "metadata": {},
     "output_type": "execute_result"
    }
   ],
   "source": [
    "df2 = df[['use_name', 'traits']]\n",
    "df2"
   ]
  },
  {
   "cell_type": "markdown",
   "metadata": {},
   "source": [
    "Set dummy values for popART (1's and 0's)"
   ]
  },
  {
   "cell_type": "code",
   "execution_count": 12,
   "metadata": {},
   "outputs": [
    {
     "data": {
      "text/html": [
       "<div>\n",
       "<style scoped>\n",
       "    .dataframe tbody tr th:only-of-type {\n",
       "        vertical-align: middle;\n",
       "    }\n",
       "\n",
       "    .dataframe tbody tr th {\n",
       "        vertical-align: top;\n",
       "    }\n",
       "\n",
       "    .dataframe thead th {\n",
       "        text-align: right;\n",
       "    }\n",
       "</style>\n",
       "<table border=\"1\" class=\"dataframe\">\n",
       "  <thead>\n",
       "    <tr style=\"text-align: right;\">\n",
       "      <th></th>\n",
       "      <th>use_name</th>\n",
       "      <th>Easter_Island</th>\n",
       "      <th>Southern</th>\n",
       "    </tr>\n",
       "  </thead>\n",
       "  <tbody>\n",
       "    <tr>\n",
       "      <th>0</th>\n",
       "      <td>PB4088</td>\n",
       "      <td>0</td>\n",
       "      <td>1</td>\n",
       "    </tr>\n",
       "    <tr>\n",
       "      <th>1</th>\n",
       "      <td>PBS4088</td>\n",
       "      <td>0</td>\n",
       "      <td>1</td>\n",
       "    </tr>\n",
       "    <tr>\n",
       "      <th>2</th>\n",
       "      <td>PB4096A</td>\n",
       "      <td>1</td>\n",
       "      <td>0</td>\n",
       "    </tr>\n",
       "    <tr>\n",
       "      <th>3</th>\n",
       "      <td>PB4096C</td>\n",
       "      <td>1</td>\n",
       "      <td>0</td>\n",
       "    </tr>\n",
       "  </tbody>\n",
       "</table>\n",
       "</div>"
      ],
      "text/plain": [
       "  use_name  Easter_Island  Southern\n",
       "0   PB4088              0         1\n",
       "1  PBS4088              0         1\n",
       "2  PB4096A              1         0\n",
       "3  PB4096C              1         0"
      ]
     },
     "execution_count": 12,
     "metadata": {},
     "output_type": "execute_result"
    }
   ],
   "source": [
    "# Creates dummy values (1 and 0) and concatenates them with the traits dataframe\n",
    "df2_matrix = pd.get_dummies(df2['traits']) # must keep this dataframe for use later\n",
    "df3 = pd.concat([df2, df2_matrix], axis=1)\n",
    "del df3['traits'] # This deletes the Traits column\n",
    "df3"
   ]
  },
  {
   "cell_type": "markdown",
   "metadata": {},
   "source": [
    "Export to get a text file"
   ]
  },
  {
   "cell_type": "code",
   "execution_count": 13,
   "metadata": {},
   "outputs": [],
   "source": [
    "# Save as csv without headers\n",
    "df3.to_csv('p_matrix.csv', header=None,index=False)\n",
    "# Convert to txt KEEPING commas"
   ]
  },
  {
   "cell_type": "code",
   "execution_count": 16,
   "metadata": {},
   "outputs": [],
   "source": [
    "%%bash\n",
    "mv p_matrix.csv p_matrix.txt # bash; save as a text file"
   ]
  },
  {
   "cell_type": "markdown",
   "metadata": {},
   "source": [
    "### Run this code: Creating PopART Text File\n",
    "\n",
    "**Matrix**: open the matrix file and format commas and white space to match requirements for popART"
   ]
  },
  {
   "cell_type": "code",
   "execution_count": 17,
   "metadata": {},
   "outputs": [
    {
     "name": "stdout",
     "output_type": "stream",
     "text": [
      "PB4088,0,1\n",
      "PBS4088,0,1\n",
      "PB4096A,1,0\n",
      "PB4096C,1,0\n",
      "\n"
     ]
    }
   ],
   "source": [
    "# Check format of file so far:\n",
    "tx1 = open('p_matrix.txt')\n",
    "print(tx1.read())"
   ]
  },
  {
   "cell_type": "code",
   "execution_count": 18,
   "metadata": {},
   "outputs": [],
   "source": [
    "# Replace the first comma with 2 spaces\n",
    "with open(\"p_matrix.txt\") as in_file, open(\"pART_matrix.txt\", \"w\") as out_file:\n",
    "    for line in in_file:\n",
    "        out_file.write(line.replace(',', '  ', 1))\n",
    "\n",
    "# Add ending format to file\n",
    "outfile = 'pART_matrix.txt'\n",
    "with open(outfile, 'a') as target:\n",
    "    target.write(\";\")\n",
    "    target.write(\"\\n\")\n",
    "    target.write(\"\\n\")\n",
    "    target.write(\"END;\")\n",
    "    target.write(\"\\n\")"
   ]
  },
  {
   "cell_type": "code",
   "execution_count": 19,
   "metadata": {},
   "outputs": [
    {
     "name": "stdout",
     "output_type": "stream",
     "text": [
      "PB4088  0,1\n",
      "PBS4088  0,1\n",
      "PB4096A  1,0\n",
      "PB4096C  1,0\n",
      ";\n",
      "\n",
      "END;\n",
      "\n"
     ]
    }
   ],
   "source": [
    "# Check format of file so far:\n",
    "tx1 = open('pART_matrix.txt')\n",
    "print(tx1.read())"
   ]
  },
  {
   "cell_type": "code",
   "execution_count": 20,
   "metadata": {},
   "outputs": [],
   "source": [
    "%%bash\n",
    "rm 'p_matrix.txt' # Remove 'p_matrix.txt' because it is no longer needed"
   ]
  },
  {
   "cell_type": "markdown",
   "metadata": {},
   "source": [
    "**TraitLabels**: this sets the TraitLabels in the popART file based on the `df_matrix` created above"
   ]
  },
  {
   "cell_type": "code",
   "execution_count": 22,
   "metadata": {},
   "outputs": [
    {
     "data": {
      "text/plain": [
       "['Easter_Island', 'Southern']"
      ]
     },
     "execution_count": 22,
     "metadata": {},
     "output_type": "execute_result"
    }
   ],
   "source": [
    "# Make traitlabels from imported dataframe\n",
    "labels = list(df2_matrix.columns.values)\n",
    "labels # print output to confirm"
   ]
  },
  {
   "cell_type": "markdown",
   "metadata": {},
   "source": [
    "**NTRAITS**: This sets the NTRAITS in the popART file based on the `df_matrix` created above"
   ]
  },
  {
   "cell_type": "code",
   "execution_count": 23,
   "metadata": {
    "scrolled": true
   },
   "outputs": [
    {
     "data": {
      "text/plain": [
       "'2'"
      ]
     },
     "execution_count": 23,
     "metadata": {},
     "output_type": "execute_result"
    }
   ],
   "source": [
    "# Make NTRAITS from imported dataframe and convert to string\n",
    "ntraits = len(df2_matrix.columns)\n",
    "ntraits = str(ntraits) # convert to string format\n",
    "ntraits # print output to confirm"
   ]
  },
  {
   "cell_type": "code",
   "execution_count": 24,
   "metadata": {},
   "outputs": [
    {
     "data": {
      "text/plain": [
       "str"
      ]
     },
     "execution_count": 24,
     "metadata": {},
     "output_type": "execute_result"
    }
   ],
   "source": [
    "# Confirm that ntraits are str not int\n",
    "type(ntraits)"
   ]
  },
  {
   "cell_type": "markdown",
   "metadata": {},
   "source": [
    "**Write and fill final popART file**:\n",
    "\n",
    "First the text block for the file is created, then the matrix is appended to it"
   ]
  },
  {
   "cell_type": "code",
   "execution_count": 25,
   "metadata": {},
   "outputs": [],
   "source": [
    "outfile = 'pART_traits.txt'\n",
    "with open(outfile, 'w') as target:\n",
    "    target.write(\"BEGIN TRAITS;\")\n",
    "    target.write(\"\\n\")\n",
    "    target.write(\"[This is the traits block specific to PopART. Check that NTRAITS matches the number of traits and they are in the same order as the matrix.]\")\n",
    "    target.write(\"\\n\")\n",
    "    target.write(\"\\tDimensions NTRAITS=\")\n",
    "    for item in ntraits:\n",
    "        target.write(\"%s;\" % item)\n",
    "    target.write(\"\\n\")\n",
    "    target.write(\"\\tFormat labels=yes missing=? separator=Comma;\")\n",
    "    target.write(\"\\n\")\n",
    "    target.write(\"\\tTraitlabels\")\n",
    "    for item in labels:\n",
    "      target.write(\" %s\" % item)\n",
    "    target.write(\";\")\n",
    "    target.write(\"\\n\")\n",
    "    target.write(\"\\tMatrix\")\n",
    "    target.write(\"\\n\")"
   ]
  },
  {
   "cell_type": "code",
   "execution_count": 27,
   "metadata": {},
   "outputs": [
    {
     "name": "stdout",
     "output_type": "stream",
     "text": [
      "BEGIN TRAITS;\n",
      "[This is the traits block specific to PopART. Check that NTRAITS matches the number of traits and they are in the same order as the matrix.]\n",
      "\tDimensions NTRAITS=2;\n",
      "\tFormat labels=yes missing=? separator=Comma;\n",
      "\tTraitlabels Easter_Island Southern;\n",
      "\tMatrix\n",
      "\n"
     ]
    }
   ],
   "source": [
    "# Check format of file so far:\n",
    "tx1 = open('pART_traits.txt')\n",
    "print(tx1.read())"
   ]
  },
  {
   "cell_type": "markdown",
   "metadata": {},
   "source": [
    "#### Concatenate Matrix and popART Files"
   ]
  },
  {
   "cell_type": "code",
   "execution_count": 28,
   "metadata": {},
   "outputs": [],
   "source": [
    "%%bash\n",
    "cat pART_matrix.txt >> pART_traits.txt"
   ]
  },
  {
   "cell_type": "code",
   "execution_count": 29,
   "metadata": {},
   "outputs": [
    {
     "name": "stdout",
     "output_type": "stream",
     "text": [
      "BEGIN TRAITS;\n",
      "[This is the traits block specific to PopART. Check that NTRAITS matches the number of traits and they are in the same order as the matrix.]\n",
      "\tDimensions NTRAITS=2;\n",
      "\tFormat labels=yes missing=? separator=Comma;\n",
      "\tTraitlabels Easter_Island Southern;\n",
      "\tMatrix\n",
      "PB4088  0,1\n",
      "PBS4088  0,1\n",
      "PB4096A  1,0\n",
      "PB4096C  1,0\n",
      ";\n",
      "\n",
      "END;\n",
      "\n"
     ]
    }
   ],
   "source": [
    "# Check format of file:\n",
    "tx1 = open('pART_traits.txt')\n",
    "print(tx1.read())"
   ]
  },
  {
   "cell_type": "markdown",
   "metadata": {},
   "source": [
    "Append this to our nexus file for use in popART:"
   ]
  },
  {
   "cell_type": "code",
   "execution_count": 30,
   "metadata": {},
   "outputs": [],
   "source": [
    "%%bash\n",
    "cp thermi_testN.nex thermi_testN_pART.nex\n",
    "cat pART_traits.txt >> thermi_testN_pART.nex"
   ]
  }
 ],
 "metadata": {
  "kernelspec": {
   "display_name": "Python 3",
   "language": "python",
   "name": "python3"
  },
  "language_info": {
   "codemirror_mode": {
    "name": "ipython",
    "version": 3
   },
   "file_extension": ".py",
   "mimetype": "text/x-python",
   "name": "python",
   "nbconvert_exporter": "python",
   "pygments_lexer": "ipython3",
   "version": "3.6.4"
  }
 },
 "nbformat": 4,
 "nbformat_minor": 2
}
